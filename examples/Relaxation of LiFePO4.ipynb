{
 "cells": [
  {
   "cell_type": "markdown",
   "id": "0",
   "metadata": {},
   "source": [
    "# Introduction\n",
    "\n",
    "This notebook shows an example of relaxing the LiFePO4 crystal.\n",
    "\n",
    "If you are running this notebook from Google Colab, uncomment the next code box to install m3gnet first."
   ]
  },
  {
   "cell_type": "code",
   "execution_count": null,
   "id": "1",
   "metadata": {},
   "outputs": [],
   "source": [
    "# !pip install m3gnet"
   ]
  },
  {
   "cell_type": "code",
   "execution_count": null,
   "id": "2",
   "metadata": {},
   "outputs": [
    {
     "name": "stderr",
     "output_type": "stream",
     "text": [
      "/Users/shyue/repos/pymatgen/pymatgen/analysis/phase_diagram.py:26: TqdmExperimentalWarning: Using `tqdm.autonotebook.tqdm` in notebook mode. Use `tqdm.tqdm` instead to force console mode (e.g. in jupyter console)\n",
      "  from tqdm.autonotebook import tqdm\n"
     ]
    },
    {
     "ename": "ModuleNotFoundError",
     "evalue": "No module named 'tensorflow'",
     "output_type": "error",
     "traceback": [
      "\u001b[0;31m---------------------------------------------------------------------------\u001b[0m",
      "\u001b[0;31mModuleNotFoundError\u001b[0m                       Traceback (most recent call last)",
      "\u001b[0;32m/var/folders/w6/yrmcztx969j0r2f2v6yy3gp00000gn/T/ipykernel_47567/3029620437.py\u001b[0m in \u001b[0;36m<module>\u001b[0;34m\u001b[0m\n\u001b[1;32m      5\u001b[0m \u001b[0;32mfrom\u001b[0m \u001b[0mpymatgen\u001b[0m\u001b[0;34m.\u001b[0m\u001b[0mutil\u001b[0m\u001b[0;34m.\u001b[0m\u001b[0mcoord\u001b[0m \u001b[0;32mimport\u001b[0m \u001b[0mpbc_diff\u001b[0m\u001b[0;34m\u001b[0m\u001b[0;34m\u001b[0m\u001b[0m\n\u001b[1;32m      6\u001b[0m \u001b[0;34m\u001b[0m\u001b[0m\n\u001b[0;32m----> 7\u001b[0;31m \u001b[0;32mfrom\u001b[0m \u001b[0mm3gnet\u001b[0m\u001b[0;34m.\u001b[0m\u001b[0mmodels\u001b[0m \u001b[0;32mimport\u001b[0m \u001b[0mRelaxer\u001b[0m\u001b[0;34m\u001b[0m\u001b[0;34m\u001b[0m\u001b[0m\n\u001b[0m\u001b[1;32m      8\u001b[0m \u001b[0;34m\u001b[0m\u001b[0m\n\u001b[1;32m      9\u001b[0m \u001b[0;32mfor\u001b[0m \u001b[0mcategory\u001b[0m \u001b[0;32min\u001b[0m \u001b[0;34m(\u001b[0m\u001b[0mUserWarning\u001b[0m\u001b[0;34m,\u001b[0m \u001b[0mDeprecationWarning\u001b[0m\u001b[0;34m)\u001b[0m\u001b[0;34m:\u001b[0m\u001b[0;34m\u001b[0m\u001b[0;34m\u001b[0m\u001b[0m\n",
      "\u001b[0;32m~/repos/m3gnet/m3gnet/models/__init__.py\u001b[0m in \u001b[0;36m<module>\u001b[0;34m\u001b[0m\n\u001b[1;32m      2\u001b[0m \u001b[0mGraph\u001b[0m \u001b[0mpretrained\u001b[0m\u001b[0;34m\u001b[0m\u001b[0;34m\u001b[0m\u001b[0m\n\u001b[1;32m      3\u001b[0m \"\"\"\n\u001b[0;32m----> 4\u001b[0;31m \u001b[0;32mfrom\u001b[0m \u001b[0;34m.\u001b[0m\u001b[0m_base\u001b[0m \u001b[0;32mimport\u001b[0m \u001b[0mBasePotential\u001b[0m\u001b[0;34m,\u001b[0m \u001b[0mGraphModelMixin\u001b[0m\u001b[0;34m,\u001b[0m \u001b[0mPotential\u001b[0m\u001b[0;34m\u001b[0m\u001b[0;34m\u001b[0m\u001b[0m\n\u001b[0m\u001b[1;32m      5\u001b[0m \u001b[0;32mfrom\u001b[0m \u001b[0;34m.\u001b[0m\u001b[0m_dynamics\u001b[0m \u001b[0;32mimport\u001b[0m \u001b[0mM3GNetCalculator\u001b[0m\u001b[0;34m,\u001b[0m \u001b[0mMolecularDynamics\u001b[0m\u001b[0;34m,\u001b[0m \u001b[0mRelaxer\u001b[0m\u001b[0;34m\u001b[0m\u001b[0;34m\u001b[0m\u001b[0m\n\u001b[1;32m      6\u001b[0m \u001b[0;32mfrom\u001b[0m \u001b[0;34m.\u001b[0m\u001b[0m_m3gnet\u001b[0m \u001b[0;32mimport\u001b[0m \u001b[0mM3GNet\u001b[0m\u001b[0;34m\u001b[0m\u001b[0;34m\u001b[0m\u001b[0m\n",
      "\u001b[0;32m~/repos/m3gnet/m3gnet/models/_base.py\u001b[0m in \u001b[0;36m<module>\u001b[0;34m\u001b[0m\n\u001b[1;32m      8\u001b[0m \u001b[0;32mfrom\u001b[0m \u001b[0mtyping\u001b[0m \u001b[0;32mimport\u001b[0m \u001b[0mList\u001b[0m\u001b[0;34m,\u001b[0m \u001b[0mUnion\u001b[0m\u001b[0;34m\u001b[0m\u001b[0;34m\u001b[0m\u001b[0m\n\u001b[1;32m      9\u001b[0m \u001b[0;34m\u001b[0m\u001b[0m\n\u001b[0;32m---> 10\u001b[0;31m \u001b[0;32mimport\u001b[0m \u001b[0mtensorflow\u001b[0m \u001b[0;32mas\u001b[0m \u001b[0mtf\u001b[0m\u001b[0;34m\u001b[0m\u001b[0;34m\u001b[0m\u001b[0m\n\u001b[0m\u001b[1;32m     11\u001b[0m \u001b[0;32mfrom\u001b[0m \u001b[0mpymatgen\u001b[0m\u001b[0;34m.\u001b[0m\u001b[0mcore\u001b[0m\u001b[0;34m.\u001b[0m\u001b[0mstructure\u001b[0m \u001b[0;32mimport\u001b[0m \u001b[0mMolecule\u001b[0m\u001b[0;34m,\u001b[0m \u001b[0mStructure\u001b[0m\u001b[0;34m\u001b[0m\u001b[0;34m\u001b[0m\u001b[0m\n\u001b[1;32m     12\u001b[0m \u001b[0;34m\u001b[0m\u001b[0m\n",
      "\u001b[0;31mModuleNotFoundError\u001b[0m: No module named 'tensorflow'"
     ]
    }
   ],
   "source": [
    "import warnings\n",
    "\n",
    "import numpy as np\n",
    "from pymatgen.ext.matproj import MPRester\n",
    "from pymatgen.util.coord import pbc_diff\n",
    "\n",
    "from m3gnet.models import Relaxer\n",
    "\n",
    "for category in (UserWarning, DeprecationWarning):\n",
    "    warnings.filterwarnings(\"ignore\", category=category, module=\"tensorflow\")"
   ]
  },
  {
   "cell_type": "code",
   "execution_count": null,
   "id": "3",
   "metadata": {},
   "outputs": [],
   "source": [
    "mpr = MPRester()\n",
    "lfp = mpr.get_structure_by_material_id(\"mp-19017\")  # This is LiFePO4.\n",
    "\n",
    "lfp_strained = lfp.copy()  # We create a copy.\n",
    "# Create a random strain between -5% and 5% for each direction\n",
    "strains = np.random.uniform(low=-0.05, high=0.05, size=3)\n",
    "lfp_strained.apply_strain(strains)\n",
    "# In addition to the lattice strains, we also perturb the atoms by a distance of 0.1 angstrom.\n",
    "lfp_strained.perturb(0.1)"
   ]
  },
  {
   "cell_type": "code",
   "execution_count": null,
   "id": "4",
   "metadata": {},
   "outputs": [
    {
     "name": "stderr",
     "output_type": "stream",
     "text": [
      "2022-08-16 15:10:14.833037: W tensorflow/core/platform/profile_utils/cpu_utils.cc:128] Failed to get CPU frequency: 0 Hz\n"
     ]
    },
    {
     "name": "stdout",
     "output_type": "stream",
     "text": [
      "CPU times: user 13.1 s, sys: 2.22 s, total: 15.3 s\n",
      "Wall time: 9.48 s\n"
     ]
    }
   ],
   "source": [
    "relaxer = Relaxer()\n",
    "relax_results: dict = {}\n",
    "%time relax_results = relaxer.relax(lfp_strained)\n",
    "relaxed_struct = relax_results[\"final_structure\"]"
   ]
  },
  {
   "cell_type": "markdown",
   "id": "5",
   "metadata": {},
   "source": [
    "Note that the relaxation only took < 20s."
   ]
  },
  {
   "cell_type": "markdown",
   "id": "6",
   "metadata": {},
   "source": [
    "The relaxation using the M3GNet universal IAP has brought the lattice parameters much closer to the original DFT ones and the coordinates are also within $10^{-3}$ of the original fractional coordinates."
   ]
  },
  {
   "cell_type": "code",
   "execution_count": null,
   "id": "7",
   "metadata": {},
   "outputs": [
    {
     "name": "stdout",
     "output_type": "stream",
     "text": [
      "Original lattice parameters are [4.746, 10.444, 6.09]\n",
      "Strained lattice parameters are [4.655, 10.116, 6.169]\n",
      "Relaxed lattice parameters are [4.749, 10.447, 6.105]\n"
     ]
    }
   ],
   "source": [
    "print(f\"Original lattice parameters are {[round(x, 3) for x in lfp.lattice.abc]}\")\n",
    "print(f\"Strained lattice parameters are {[round(x, 3) for x in lfp_strained.lattice.abc]}\")\n",
    "print(f\"Relaxed lattice parameters are {[round(x, 3) for x in relaxed_struct.lattice.abc]}\")"
   ]
  },
  {
   "cell_type": "code",
   "execution_count": null,
   "id": "8",
   "metadata": {},
   "outputs": [
    {
     "data": {
      "text/plain": [
       "array([[9.95585866e-01, 5.09294457e-04, 9.84189370e-01],\n",
       "       [5.20894009e-01, 5.01713435e-01, 9.97474321e-01],\n",
       "       [5.04853356e-01, 4.91625924e-01, 5.07732446e-01],\n",
       "       [1.96716573e-02, 9.98423822e-01, 4.93991898e-01],\n",
       "       [4.66972193e-01, 2.26221410e-01, 7.56598929e-01],\n",
       "       [1.75367824e-02, 7.14677040e-01, 7.64243428e-01],\n",
       "       [9.74532693e-01, 2.74308700e-01, 2.60366885e-01],\n",
       "       [5.05152825e-01, 7.85728905e-01, 2.50998223e-01],\n",
       "       [4.11383909e-01, 8.64375884e-02, 2.42736461e-01],\n",
       "       [9.22660218e-01, 4.05067751e-01, 7.34201221e-01],\n",
       "       [6.64774830e-02, 5.88037118e-01, 2.49265519e-01],\n",
       "       [5.62188874e-01, 9.05333524e-01, 7.43938118e-01],\n",
       "       [7.51256294e-01, 1.04193044e-01, 2.42070362e-01],\n",
       "       [2.47872494e-01, 4.03677933e-01, 7.65556546e-01],\n",
       "       [7.64247175e-01, 6.05980547e-01, 2.46644955e-01],\n",
       "       [2.37052521e-01, 9.01273281e-01, 7.49090937e-01],\n",
       "       [1.98641403e-01, 4.49672882e-01, 2.58717668e-01],\n",
       "       [7.12504542e-01, 4.95576766e-02, 7.61240801e-01],\n",
       "       [3.04487116e-01, 9.50210774e-01, 2.57841988e-01],\n",
       "       [7.77291106e-01, 5.39120222e-01, 7.41063167e-01],\n",
       "       [2.92830014e-01, 1.70029033e-01, 6.00037370e-02],\n",
       "       [7.98603824e-01, 3.40237031e-01, 9.60862028e-01],\n",
       "       [7.93814946e-01, 3.25874071e-01, 5.43655140e-01],\n",
       "       [2.68565981e-01, 1.69799027e-01, 4.44632500e-01],\n",
       "       [2.25509920e-01, 6.64324615e-01, 4.38710904e-01],\n",
       "       [7.30509030e-01, 8.41605769e-01, 5.46991622e-01],\n",
       "       [7.04560623e-01, 8.41692824e-01, 9.60516171e-01],\n",
       "       [2.08225028e-01, 6.62225248e-01, 3.27568511e-02]])"
      ]
     },
     "execution_count": null,
     "metadata": {},
     "output_type": "execute_result"
    }
   ],
   "source": [
    "lfp_strained.frac_coords"
   ]
  },
  {
   "cell_type": "code",
   "execution_count": null,
   "id": "9",
   "metadata": {},
   "outputs": [
    {
     "name": "stdout",
     "output_type": "stream",
     "text": [
      "mean diff in frac. coords. between strained and original LFP structure: 0.00798\n"
     ]
    }
   ],
   "source": [
    "strained_to_orig_frac_coords_mean_diff = abs(pbc_diff(lfp_strained.frac_coords, lfp.frac_coords)).mean()\n",
    "\n",
    "print(\n",
    "    \"mean diff in frac. coords. between strained and original \"\n",
    "    f\"LFP structure: {strained_to_orig_frac_coords_mean_diff:.3}\"\n",
    ")"
   ]
  },
  {
   "cell_type": "code",
   "execution_count": null,
   "id": "10",
   "metadata": {},
   "outputs": [
    {
     "name": "stdout",
     "output_type": "stream",
     "text": [
      "mean diff in frac. coords. between original and M3GNet-relaxed LFP structure: 0.0026\n"
     ]
    }
   ],
   "source": [
    "orig_to_m3gnet_frac_coords_mean_diff = abs(pbc_diff(lfp.frac_coords, relaxed_struct.frac_coords)).mean()\n",
    "\n",
    "print(\n",
    "    \"mean diff in frac. coords. between original and M3GNet-relaxed \"\n",
    "    f\"LFP structure: {orig_to_m3gnet_frac_coords_mean_diff:.3}\"\n",
    ")"
   ]
  },
  {
   "cell_type": "code",
   "execution_count": null,
   "id": "11",
   "metadata": {},
   "outputs": [
    {
     "name": "stdout",
     "output_type": "stream",
     "text": [
      "M3GNet reduces the mean difference in frac. coords. from the strained to the original structure by a factor of: 3.07\n"
     ]
    }
   ],
   "source": [
    "mean_pbc_diff_ratio = strained_to_orig_frac_coords_mean_diff / orig_to_m3gnet_frac_coords_mean_diff\n",
    "\n",
    "print(\n",
    "    f\"M3GNet reduces the mean difference in frac. coords. from the strained \"\n",
    "    f\"to the original structure by a factor of: {mean_pbc_diff_ratio:.3}\"\n",
    ")"
   ]
  },
  {
   "cell_type": "markdown",
   "id": "12",
   "metadata": {},
   "source": [
    "# Phonon Band Structure and DOS\n",
    "\n",
    "The M3GNet IAP can also be used to compute the lattice vibrations in a super cell."
   ]
  },
  {
   "cell_type": "code",
   "execution_count": null,
   "id": "13",
   "metadata": {},
   "outputs": [
    {
     "name": "stdout",
     "output_type": "stream",
     "text": [
      "WARNING, 1 imaginary frequencies at q = ( 0.00,  0.00,  0.00) ; (omega_q = 4.480e-09*i)\n",
      "WARNING, 1 imaginary frequencies at q = ( 0.00,  0.00,  0.00) ; (omega_q = 4.480e-09*i)\n"
     ]
    }
   ],
   "source": [
    "from ase.phonons import Phonons\n",
    "from pymatgen.io.ase import AseAtomsAdaptor\n",
    "\n",
    "from m3gnet.models import M3GNet, M3GNetCalculator, Potential\n",
    "\n",
    "mp_129 = mpr.get_structure_by_material_id(mp_id := \"mp-129\")\n",
    "\n",
    "# Setup crystal and EMT calculator\n",
    "atoms = AseAtomsAdaptor().get_atoms(mp_129)\n",
    "\n",
    "potential = Potential(M3GNet.load())\n",
    "\n",
    "calculator = M3GNetCalculator(potential=potential, stress_weight=0.01)\n",
    "\n",
    "# Phonon calculator\n",
    "N = 7\n",
    "supercell = (N, N, N)\n",
    "ph = Phonons(atoms, calculator, supercell=supercell, delta=0.05)\n",
    "ph.run()\n",
    "\n",
    "# Read forces and assemble the dynamical matrix\n",
    "ph.read(acoustic=True)\n",
    "ph.clean()\n",
    "\n",
    "path = atoms.cell.bandpath(\"GHPGN\", npoints=100)\n",
    "bs = ph.get_band_structure(path)\n",
    "\n",
    "dos = ph.get_dos(kpts=(20, 20, 20)).sample_grid(npts=100, width=1e-3)"
   ]
  },
  {
   "cell_type": "code",
   "execution_count": null,
   "id": "14",
   "metadata": {},
   "outputs": [
    {
     "data": {
      "text/plain": [
       "Text(0.5, 1.02, 'Phonon band structure and DOS of LiFePO4 Mo1 (mp-129) with (7, 7, 7) supercell')"
      ]
     },
     "execution_count": null,
     "metadata": {},
     "output_type": "execute_result"
    },
    {
     "data": {
      "image/png": "[encoded data removed]",
      "text/plain": [
       "<Figure size 504x288 with 2 Axes>"
      ]
     },
     "metadata": {
      "needs_background": "light"
     },
     "output_type": "display_data"
    }
   ],
   "source": [
    "# Plot the band structure and DOS:\n",
    "import matplotlib.pyplot as plt\n",
    "\n",
    "plt.rc(\"figure\", dpi=150)\n",
    "\n",
    "fig = plt.figure(1, figsize=(7, 4))\n",
    "bs_ax = fig.add_axes([0.12, 0.07, 0.67, 0.85])\n",
    "\n",
    "emax = 0.035\n",
    "bs.plot(ax=bs_ax, emin=0.0, emax=emax)\n",
    "\n",
    "dos_ax = fig.add_axes([0.8, 0.07, 0.17, 0.85])\n",
    "dos_ax.fill_between(dos.get_weights(), dos.get_energies(), y2=0, color=\"grey\", edgecolor=\"black\", lw=1)\n",
    "\n",
    "dos_ax.set_ylim(0, emax)\n",
    "dos_ax.set_yticks([])\n",
    "dos_ax.set_xticks([])\n",
    "dos_ax.set_xlabel(\"DOS\", fontsize=14)\n",
    "\n",
    "fig.suptitle(\n",
    "    f\"Phonon band structure and DOS of LiFePO4 {mp_129.formula} ({mp_id}) with {supercell} supercell\",\n",
    "    fontsize=12,\n",
    "    y=1.02,\n",
    ")"
   ]
  }
 ],
 "metadata": {
  "kernelspec": {
   "display_name": "Python 3 (ipykernel)",
   "language": "python",
   "name": "python3"
  },
  "language_info": {
   "codemirror_mode": {
    "name": "ipython",
    "version": 3
   },
   "file_extension": ".py",
   "mimetype": "text/x-python",
   "name": "python",
   "nbconvert_exporter": "python",
   "pygments_lexer": "ipython3",
   "version": "3.10.9"
  },
  "vscode": {
   "interpreter": {
    "hash": "95e5cb0dae99d6911ce19b14750141ca4ad955f9302739260772daefb06054c0"
   }
  }
 },
 "nbformat": 4,
 "nbformat_minor": 5
}
